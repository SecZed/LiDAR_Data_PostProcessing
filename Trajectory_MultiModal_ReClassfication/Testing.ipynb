{
 "cells": [
  {
   "cell_type": "code",
   "execution_count": 21,
   "metadata": {
    "collapsed": true,
    "ExecuteTime": {
     "end_time": "2023-08-14T16:16:55.195128500Z",
     "start_time": "2023-08-14T16:16:55.180113800Z"
    }
   },
   "outputs": [],
   "source": [
    "import arcpy\n",
    "import sys\n",
    "import pandas as pd\n",
    "sys.path.append(r'D:\\PythonFiles\\ArcGisModule')\n",
    "import function"
   ]
  },
  {
   "cell_type": "code",
   "execution_count": 47,
   "outputs": [],
   "source": [
    "filename = r'C:\\Users\\Fei\\Documents\\ArcGIS\\Projects\\Cleaned Classification\\Lawrence.gdb\\map20211219093000'\n",
    "path_gdb = r'C:\\Users\\Fei\\Documents\\ArcGIS\\Projects\\Cleaned Classification\\Lawrence.gdb'\n",
    "path_temp = r\"C:\\Users\\Fei\\Documents\\ArcGIS\\Projects\\Cleaned Classification\\Output\"\n",
    "wildcard = 'map20211219*'"
   ],
   "metadata": {
    "collapsed": false,
    "ExecuteTime": {
     "end_time": "2023-08-14T17:26:35.027586500Z",
     "start_time": "2023-08-14T17:26:35.001994200Z"
    }
   }
  },
  {
   "cell_type": "code",
   "execution_count": 23,
   "outputs": [],
   "source": [
    "def ReadFeatureLayer(filename, path_gdb, path_temp):\n",
    "    with arcpy.EnvManager(scratchWorkspace=path_gdb, workspace=path_gdb):\n",
    "        with arcpy.EnvManager(qualifiedFieldNames=True):\n",
    "            arcpy.env.overwriteOutput = True\n",
    "            csvfile = \"{}\\\\temp.csv\".format(path_temp)\n",
    "            arcpy.conversion.ExportTable(in_table=filename,\n",
    "                                         out_table=csvfile,\n",
    "                                         where_clause=\"\",\n",
    "                                         use_field_alias_as_name=\"NOT_USE_ALIAS\",\n",
    "                                         field_mapping=\"\",\n",
    "                                         sort_field=[])\n",
    "        df_output = pd.read_csv(csvfile)\n",
    "    return df_output"
   ],
   "metadata": {
    "collapsed": false,
    "ExecuteTime": {
     "end_time": "2023-08-14T16:16:56.847230Z",
     "start_time": "2023-08-14T16:16:56.824646200Z"
    }
   }
  },
  {
   "cell_type": "code",
   "execution_count": 26,
   "outputs": [
    {
     "data": {
      "text/plain": "          OID_  ObjectID  FrameIndex    Coord_X    Coord_Y  Coord_Z   Speed_X  \\\n0            1       7.0         2.0 -50.429108 -64.546315      0.0  0.000000   \n1            2       7.0         3.0 -49.564950 -63.817335      0.0  4.019341   \n2            3       7.0         4.0 -49.013924 -62.484297      0.0  4.696644   \n3            4       7.0         5.0 -48.544260 -61.693686      0.0  4.696644   \n4            5       7.0         6.0 -47.596023 -60.440993      0.0  6.447360   \n...        ...       ...         ...        ...        ...      ...       ...   \n174706  174707   11562.0     17832.0 -28.579268  11.069112      0.0  0.056013   \n174707  174708   11562.0     17833.0 -29.145902  10.223180      0.0 -1.308714   \n174708  174709   11562.0     17834.0 -29.708009   9.508288      0.0 -2.337068   \n174709  174710   11562.0     17835.0 -30.584570   8.597442      0.0 -3.869985   \n174710  174711   11562.0     17836.0 -30.905099   7.995397      0.0 -3.711488   \n\n         Speed_Y      Speed   Longitude  ...     Width       Area        Dis  \\\n0       0.000000   0.000000 -119.809674  ...  2.182359   0.312239  82.080000   \n1       3.390606   5.258452 -119.809671  ...  2.182359   0.418657  80.758000   \n2       7.906111   9.195926 -119.809664  ...  2.182359   0.046361  79.312000   \n3       7.906111   9.195926 -119.809660  ...  2.182359   0.046361  79.312000   \n4       9.596505  11.561201 -119.809655  ...  2.182359   0.156016  76.728800   \n...          ...        ...         ...  ...       ...        ...        ...   \n174706 -5.797878   5.798149 -119.809122  ...  2.548854   5.449284  30.293034   \n174707 -6.432608   6.564387 -119.809124  ...  2.548854   8.990108  30.543858   \n174708 -6.603425   7.004791 -119.809122  ...  2.548854  13.342719  30.650906   \n174709 -7.200760   8.174823 -119.809124  ...  2.548854   5.482132  30.974867   \n174710 -6.919317   7.851885 -119.809126  ...  2.548854   9.384665  31.190596   \n\n        Max_Length  Class   MoveAngle                 DateTime   AdjSpeed  \\\n0         2.438856      1         NaN  2021-12-19 09:30:00.200        NaN   \n1         2.438856      1         NaN  2021-12-19 09:30:00.300  25.290108   \n2         2.438856      1         NaN  2021-12-19 09:30:00.400  32.266394   \n3         2.438856      1         NaN  2021-12-19 09:30:00.500  20.570734   \n4         2.438856      1         NaN  2021-12-19 09:30:00.600  35.144844   \n...            ...    ...         ...                      ...        ...   \n174706    3.501326      1  256.932651  2021-12-19 09:59:43.200  25.630982   \n174707    3.501326      1  267.439694  2021-12-19 09:59:43.300  22.775922   \n174708    3.501326      1  300.691015  2021-12-19 09:59:43.400  20.343057   \n174709    3.501326      1  349.587226  2021-12-19 09:59:43.500  28.277596   \n174710    3.501326      1  351.693209  2021-12-19 09:59:43.600  15.257127   \n\n        MedianSpeed  Acceleration  \n0               NaN           NaN  \n1         25.290108           NaN  \n2         28.778251           NaN  \n3         25.290108           NaN  \n4         28.778251           NaN  \n...             ...           ...  \n174706     9.952454    -13.606850  \n174707     9.952454     -4.678539  \n174708    14.234118      6.279775  \n174709    18.607081     12.693454  \n174710    18.607081     12.693454  \n\n[174711 rows x 27 columns]",
      "text/html": "<div>\n<style scoped>\n    .dataframe tbody tr th:only-of-type {\n        vertical-align: middle;\n    }\n\n    .dataframe tbody tr th {\n        vertical-align: top;\n    }\n\n    .dataframe thead th {\n        text-align: right;\n    }\n</style>\n<table border=\"1\" class=\"dataframe\">\n  <thead>\n    <tr style=\"text-align: right;\">\n      <th></th>\n      <th>OID_</th>\n      <th>ObjectID</th>\n      <th>FrameIndex</th>\n      <th>Coord_X</th>\n      <th>Coord_Y</th>\n      <th>Coord_Z</th>\n      <th>Speed_X</th>\n      <th>Speed_Y</th>\n      <th>Speed</th>\n      <th>Longitude</th>\n      <th>...</th>\n      <th>Width</th>\n      <th>Area</th>\n      <th>Dis</th>\n      <th>Max_Length</th>\n      <th>Class</th>\n      <th>MoveAngle</th>\n      <th>DateTime</th>\n      <th>AdjSpeed</th>\n      <th>MedianSpeed</th>\n      <th>Acceleration</th>\n    </tr>\n  </thead>\n  <tbody>\n    <tr>\n      <th>0</th>\n      <td>1</td>\n      <td>7.0</td>\n      <td>2.0</td>\n      <td>-50.429108</td>\n      <td>-64.546315</td>\n      <td>0.0</td>\n      <td>0.000000</td>\n      <td>0.000000</td>\n      <td>0.000000</td>\n      <td>-119.809674</td>\n      <td>...</td>\n      <td>2.182359</td>\n      <td>0.312239</td>\n      <td>82.080000</td>\n      <td>2.438856</td>\n      <td>1</td>\n      <td>NaN</td>\n      <td>2021-12-19 09:30:00.200</td>\n      <td>NaN</td>\n      <td>NaN</td>\n      <td>NaN</td>\n    </tr>\n    <tr>\n      <th>1</th>\n      <td>2</td>\n      <td>7.0</td>\n      <td>3.0</td>\n      <td>-49.564950</td>\n      <td>-63.817335</td>\n      <td>0.0</td>\n      <td>4.019341</td>\n      <td>3.390606</td>\n      <td>5.258452</td>\n      <td>-119.809671</td>\n      <td>...</td>\n      <td>2.182359</td>\n      <td>0.418657</td>\n      <td>80.758000</td>\n      <td>2.438856</td>\n      <td>1</td>\n      <td>NaN</td>\n      <td>2021-12-19 09:30:00.300</td>\n      <td>25.290108</td>\n      <td>25.290108</td>\n      <td>NaN</td>\n    </tr>\n    <tr>\n      <th>2</th>\n      <td>3</td>\n      <td>7.0</td>\n      <td>4.0</td>\n      <td>-49.013924</td>\n      <td>-62.484297</td>\n      <td>0.0</td>\n      <td>4.696644</td>\n      <td>7.906111</td>\n      <td>9.195926</td>\n      <td>-119.809664</td>\n      <td>...</td>\n      <td>2.182359</td>\n      <td>0.046361</td>\n      <td>79.312000</td>\n      <td>2.438856</td>\n      <td>1</td>\n      <td>NaN</td>\n      <td>2021-12-19 09:30:00.400</td>\n      <td>32.266394</td>\n      <td>28.778251</td>\n      <td>NaN</td>\n    </tr>\n    <tr>\n      <th>3</th>\n      <td>4</td>\n      <td>7.0</td>\n      <td>5.0</td>\n      <td>-48.544260</td>\n      <td>-61.693686</td>\n      <td>0.0</td>\n      <td>4.696644</td>\n      <td>7.906111</td>\n      <td>9.195926</td>\n      <td>-119.809660</td>\n      <td>...</td>\n      <td>2.182359</td>\n      <td>0.046361</td>\n      <td>79.312000</td>\n      <td>2.438856</td>\n      <td>1</td>\n      <td>NaN</td>\n      <td>2021-12-19 09:30:00.500</td>\n      <td>20.570734</td>\n      <td>25.290108</td>\n      <td>NaN</td>\n    </tr>\n    <tr>\n      <th>4</th>\n      <td>5</td>\n      <td>7.0</td>\n      <td>6.0</td>\n      <td>-47.596023</td>\n      <td>-60.440993</td>\n      <td>0.0</td>\n      <td>6.447360</td>\n      <td>9.596505</td>\n      <td>11.561201</td>\n      <td>-119.809655</td>\n      <td>...</td>\n      <td>2.182359</td>\n      <td>0.156016</td>\n      <td>76.728800</td>\n      <td>2.438856</td>\n      <td>1</td>\n      <td>NaN</td>\n      <td>2021-12-19 09:30:00.600</td>\n      <td>35.144844</td>\n      <td>28.778251</td>\n      <td>NaN</td>\n    </tr>\n    <tr>\n      <th>...</th>\n      <td>...</td>\n      <td>...</td>\n      <td>...</td>\n      <td>...</td>\n      <td>...</td>\n      <td>...</td>\n      <td>...</td>\n      <td>...</td>\n      <td>...</td>\n      <td>...</td>\n      <td>...</td>\n      <td>...</td>\n      <td>...</td>\n      <td>...</td>\n      <td>...</td>\n      <td>...</td>\n      <td>...</td>\n      <td>...</td>\n      <td>...</td>\n      <td>...</td>\n      <td>...</td>\n    </tr>\n    <tr>\n      <th>174706</th>\n      <td>174707</td>\n      <td>11562.0</td>\n      <td>17832.0</td>\n      <td>-28.579268</td>\n      <td>11.069112</td>\n      <td>0.0</td>\n      <td>0.056013</td>\n      <td>-5.797878</td>\n      <td>5.798149</td>\n      <td>-119.809122</td>\n      <td>...</td>\n      <td>2.548854</td>\n      <td>5.449284</td>\n      <td>30.293034</td>\n      <td>3.501326</td>\n      <td>1</td>\n      <td>256.932651</td>\n      <td>2021-12-19 09:59:43.200</td>\n      <td>25.630982</td>\n      <td>9.952454</td>\n      <td>-13.606850</td>\n    </tr>\n    <tr>\n      <th>174707</th>\n      <td>174708</td>\n      <td>11562.0</td>\n      <td>17833.0</td>\n      <td>-29.145902</td>\n      <td>10.223180</td>\n      <td>0.0</td>\n      <td>-1.308714</td>\n      <td>-6.432608</td>\n      <td>6.564387</td>\n      <td>-119.809124</td>\n      <td>...</td>\n      <td>2.548854</td>\n      <td>8.990108</td>\n      <td>30.543858</td>\n      <td>3.501326</td>\n      <td>1</td>\n      <td>267.439694</td>\n      <td>2021-12-19 09:59:43.300</td>\n      <td>22.775922</td>\n      <td>9.952454</td>\n      <td>-4.678539</td>\n    </tr>\n    <tr>\n      <th>174708</th>\n      <td>174709</td>\n      <td>11562.0</td>\n      <td>17834.0</td>\n      <td>-29.708009</td>\n      <td>9.508288</td>\n      <td>0.0</td>\n      <td>-2.337068</td>\n      <td>-6.603425</td>\n      <td>7.004791</td>\n      <td>-119.809122</td>\n      <td>...</td>\n      <td>2.548854</td>\n      <td>13.342719</td>\n      <td>30.650906</td>\n      <td>3.501326</td>\n      <td>1</td>\n      <td>300.691015</td>\n      <td>2021-12-19 09:59:43.400</td>\n      <td>20.343057</td>\n      <td>14.234118</td>\n      <td>6.279775</td>\n    </tr>\n    <tr>\n      <th>174709</th>\n      <td>174710</td>\n      <td>11562.0</td>\n      <td>17835.0</td>\n      <td>-30.584570</td>\n      <td>8.597442</td>\n      <td>0.0</td>\n      <td>-3.869985</td>\n      <td>-7.200760</td>\n      <td>8.174823</td>\n      <td>-119.809124</td>\n      <td>...</td>\n      <td>2.548854</td>\n      <td>5.482132</td>\n      <td>30.974867</td>\n      <td>3.501326</td>\n      <td>1</td>\n      <td>349.587226</td>\n      <td>2021-12-19 09:59:43.500</td>\n      <td>28.277596</td>\n      <td>18.607081</td>\n      <td>12.693454</td>\n    </tr>\n    <tr>\n      <th>174710</th>\n      <td>174711</td>\n      <td>11562.0</td>\n      <td>17836.0</td>\n      <td>-30.905099</td>\n      <td>7.995397</td>\n      <td>0.0</td>\n      <td>-3.711488</td>\n      <td>-6.919317</td>\n      <td>7.851885</td>\n      <td>-119.809126</td>\n      <td>...</td>\n      <td>2.548854</td>\n      <td>9.384665</td>\n      <td>31.190596</td>\n      <td>3.501326</td>\n      <td>1</td>\n      <td>351.693209</td>\n      <td>2021-12-19 09:59:43.600</td>\n      <td>15.257127</td>\n      <td>18.607081</td>\n      <td>12.693454</td>\n    </tr>\n  </tbody>\n</table>\n<p>174711 rows × 27 columns</p>\n</div>"
     },
     "execution_count": 26,
     "metadata": {},
     "output_type": "execute_result"
    }
   ],
   "source": [
    "ReadFeatureLayer(filename, path_gdb, path_temp)"
   ],
   "metadata": {
    "collapsed": false,
    "ExecuteTime": {
     "end_time": "2023-08-14T16:17:25.437228Z",
     "start_time": "2023-08-14T16:17:14.639539800Z"
    }
   }
  },
  {
   "cell_type": "code",
   "execution_count": 34,
   "outputs": [],
   "source": [
    "def AddGlobalID(df,mapName,IDName):\n",
    "    list_global_id = []\n",
    "    for i in range(len(df)):\n",
    "        dateInfo = mapName[3:15]\n",
    "        localID = int(df.at[df.index[i], IDName])\n",
    "        list_global_id.append(dateInfo + '-' + str(localID))\n",
    "    df['GlobalID'] = list_global_id\n",
    "    return df"
   ],
   "metadata": {
    "collapsed": false,
    "ExecuteTime": {
     "end_time": "2023-08-14T17:04:03.164659100Z",
     "start_time": "2023-08-14T17:04:03.145942900Z"
    }
   }
  },
  {
   "cell_type": "code",
   "execution_count": 43,
   "outputs": [],
   "source": [
    "def TaskCounter(counter, total_number):\n",
    "    counter = counter + 1\n",
    "    if counter == 1:\n",
    "        print('Finish {} job'.format(counter) + ', {} remaining.'.format(total_number - counter))\n",
    "    elif counter != total_number:\n",
    "        print('Finish {} jobs'.format(counter) + ', {} remaining.'.format(total_number-counter))\n",
    "    return counter"
   ],
   "metadata": {
    "collapsed": false,
    "ExecuteTime": {
     "end_time": "2023-08-14T17:25:31.925538500Z",
     "start_time": "2023-08-14T17:25:31.915466400Z"
    }
   }
  },
  {
   "cell_type": "code",
   "execution_count": 50,
   "outputs": [],
   "source": [
    "df_all = pd.DataFrame()"
   ],
   "metadata": {
    "collapsed": false,
    "ExecuteTime": {
     "end_time": "2023-08-14T17:27:14.572065700Z",
     "start_time": "2023-08-14T17:27:14.558485300Z"
    }
   }
  },
  {
   "cell_type": "code",
   "execution_count": 51,
   "outputs": [
    {
     "name": "stdout",
     "output_type": "stream",
     "text": [
      "Finish 1 job, 47 remaining.\n",
      "Finish 2 jobs, 46 remaining.\n",
      "Finish 3 jobs, 45 remaining.\n",
      "Finish 4 jobs, 44 remaining.\n",
      "Finish 5 jobs, 43 remaining.\n",
      "Finish 6 jobs, 42 remaining.\n",
      "Finish 7 jobs, 41 remaining.\n",
      "Finish 8 jobs, 40 remaining.\n",
      "Finish 9 jobs, 39 remaining.\n",
      "Finish 10 jobs, 38 remaining.\n",
      "Finish 11 jobs, 37 remaining.\n",
      "Finish 12 jobs, 36 remaining.\n",
      "Finish 13 jobs, 35 remaining.\n",
      "Finish 14 jobs, 34 remaining.\n",
      "Finish 15 jobs, 33 remaining.\n",
      "Finish 16 jobs, 32 remaining.\n",
      "Finish 17 jobs, 31 remaining.\n",
      "Finish 18 jobs, 30 remaining.\n",
      "Finish 19 jobs, 29 remaining.\n",
      "Finish 20 jobs, 28 remaining.\n",
      "Finish 21 jobs, 27 remaining.\n",
      "Finish 22 jobs, 26 remaining.\n",
      "Finish 23 jobs, 25 remaining.\n",
      "Finish 24 jobs, 24 remaining.\n",
      "Finish 25 jobs, 23 remaining.\n",
      "Finish 26 jobs, 22 remaining.\n",
      "Finish 27 jobs, 21 remaining.\n",
      "Finish 28 jobs, 20 remaining.\n",
      "Finish 29 jobs, 19 remaining.\n",
      "Finish 30 jobs, 18 remaining.\n",
      "Finish 31 jobs, 17 remaining.\n",
      "Finish 32 jobs, 16 remaining.\n",
      "Finish 33 jobs, 15 remaining.\n",
      "Finish 34 jobs, 14 remaining.\n",
      "Finish 35 jobs, 13 remaining.\n",
      "Finish 36 jobs, 12 remaining.\n",
      "Finish 37 jobs, 11 remaining.\n",
      "Finish 38 jobs, 10 remaining.\n",
      "Finish 39 jobs, 9 remaining.\n",
      "Finish 40 jobs, 8 remaining.\n",
      "Finish 41 jobs, 7 remaining.\n",
      "Finish 42 jobs, 6 remaining.\n",
      "Finish 43 jobs, 5 remaining.\n",
      "Finish 44 jobs, 4 remaining.\n",
      "Finish 45 jobs, 3 remaining.\n",
      "Finish 46 jobs, 2 remaining.\n",
      "Finish 47 jobs, 1 remaining.\n"
     ]
    }
   ],
   "source": [
    "with arcpy.EnvManager(scratchWorkspace=path_gdb, workspace=path_gdb):\n",
    "    dataset = arcpy.ListFeatureClasses(feature_type='Point', wild_card=wildcard)\n",
    "    counter_task = 0\n",
    "    for map in dataset:\n",
    "        df = AddGlobalID(ReadFeatureLayer(map, path_gdb, path_temp),map,'ObjectID' )\n",
    "        df.drop(['DateTime', 'ObjectID'], axis=1, inplace=True)\n",
    "        columns_to_convert = ['FrameIndex', 'Point_Cnt']  # replace with your column names\n",
    "        for col in columns_to_convert:\n",
    "            df[col] = df[col].astype(int)\n",
    "        df_all = pd.concat([df,df_all],ignore_index=True)\n",
    "        counter_task = TaskCounter(counter_task, len(dataset))"
   ],
   "metadata": {
    "collapsed": false,
    "ExecuteTime": {
     "end_time": "2023-08-14T17:34:26.201800300Z",
     "start_time": "2023-08-14T17:27:15.688493800Z"
    }
   }
  },
  {
   "cell_type": "code",
   "execution_count": 40,
   "outputs": [],
   "source": [],
   "metadata": {
    "collapsed": false,
    "ExecuteTime": {
     "end_time": "2023-08-14T17:09:21.426388200Z",
     "start_time": "2023-08-14T17:09:21.396763800Z"
    }
   }
  },
  {
   "cell_type": "code",
   "execution_count": 53,
   "outputs": [
    {
     "data": {
      "text/plain": "          OID_  FrameIndex    Coord_X    Coord_Y  Coord_Z   Speed_X  \\\n0            1           2 -50.429108 -64.546315      0.0  0.000000   \n1            2           3 -49.564950 -63.817335      0.0  4.019341   \n2            3           4 -49.013924 -62.484297      0.0  4.696644   \n3            4           5 -48.544260 -61.693686      0.0  4.696644   \n4            5           6 -47.596023 -60.440993      0.0  6.447360   \n...        ...         ...        ...        ...      ...       ...   \n6343795  72320       17832  -7.420439   9.800035      0.0 -6.056178   \n6343796  72321       17833  -8.006769   8.826333      0.0 -6.010187   \n6343797  72322       17834  -8.478235   7.742124      0.0 -5.701279   \n6343798  72323       17835  -8.833774   6.602680      0.0 -5.189609   \n6343799  72324       17836  -9.299923   5.543630      0.0 -5.063684   \n\n           Speed_Y      Speed   Longitude   Latitude  ...     Width  \\\n0         0.000000   0.000000 -119.809674  39.519009  ...  2.182359   \n1         3.390606   5.258452 -119.809671  39.519000  ...  2.182359   \n2         7.906111   9.195926 -119.809664  39.518987  ...  2.182359   \n3         7.906111   9.195926 -119.809660  39.518979  ...  2.182359   \n4         9.596505  11.561201 -119.809655  39.518965  ...  2.182359   \n...            ...        ...         ...        ...  ...       ...   \n6343795  -9.620730  11.368189 -119.809281  39.518288  ...  2.794487   \n6343796  -9.648459  11.367282 -119.809285  39.518298  ...  2.794487   \n6343797  -9.933071  11.452969 -119.809297  39.518308  ...  2.794487   \n6343798 -10.281522  11.517019 -119.809299  39.518316  ...  2.794487   \n6343799 -10.355195  11.526966 -119.809304  39.518325  ...  2.794487   \n\n              Area        Dis  Max_Length  Class   MoveAngle   AdjSpeed  \\\n0         0.312239  82.080000    2.438856      1         NaN        NaN   \n1         0.418657  80.758000    2.438856      1         NaN  25.290108   \n2         0.046361  79.312000    2.438856      1         NaN  32.266394   \n3         0.046361  79.312000    2.438856      1         NaN  20.570734   \n4         0.156016  76.728800    2.438856      1         NaN  35.144844   \n...            ...        ...         ...    ...         ...        ...   \n6343795  11.179612  12.543144    4.491904      1  338.618289  25.386272   \n6343796  11.691995  12.019200    4.491904      1  339.492302  25.425246   \n6343797   8.812228  11.572815    4.491904      1  333.904976  26.446933   \n6343798   7.887994  11.244717    4.491904      1  335.059181  26.700662   \n6343799   7.998064  10.986587    4.491904      1  335.699827  25.883647   \n\n         MedianSpeed  Acceleration           GlobalID  \n0                NaN           NaN     202112190930-7  \n1          25.290108           NaN     202112190930-7  \n2          28.778251           NaN     202112190930-7  \n3          25.290108           NaN     202112190930-7  \n4          28.778251           NaN     202112190930-7  \n...              ...           ...                ...  \n6343795    25.270079      2.664082  202112190000-6713  \n6343796    25.270079      2.664082  202112190000-6713  \n6343797    25.405759      2.863078  202112190000-6713  \n6343798    25.405759      2.439895  202112190000-6713  \n6343799    25.654446      2.804637  202112190000-6713  \n\n[6343800 rows x 26 columns]",
      "text/html": "<div>\n<style scoped>\n    .dataframe tbody tr th:only-of-type {\n        vertical-align: middle;\n    }\n\n    .dataframe tbody tr th {\n        vertical-align: top;\n    }\n\n    .dataframe thead th {\n        text-align: right;\n    }\n</style>\n<table border=\"1\" class=\"dataframe\">\n  <thead>\n    <tr style=\"text-align: right;\">\n      <th></th>\n      <th>OID_</th>\n      <th>FrameIndex</th>\n      <th>Coord_X</th>\n      <th>Coord_Y</th>\n      <th>Coord_Z</th>\n      <th>Speed_X</th>\n      <th>Speed_Y</th>\n      <th>Speed</th>\n      <th>Longitude</th>\n      <th>Latitude</th>\n      <th>...</th>\n      <th>Width</th>\n      <th>Area</th>\n      <th>Dis</th>\n      <th>Max_Length</th>\n      <th>Class</th>\n      <th>MoveAngle</th>\n      <th>AdjSpeed</th>\n      <th>MedianSpeed</th>\n      <th>Acceleration</th>\n      <th>GlobalID</th>\n    </tr>\n  </thead>\n  <tbody>\n    <tr>\n      <th>0</th>\n      <td>1</td>\n      <td>2</td>\n      <td>-50.429108</td>\n      <td>-64.546315</td>\n      <td>0.0</td>\n      <td>0.000000</td>\n      <td>0.000000</td>\n      <td>0.000000</td>\n      <td>-119.809674</td>\n      <td>39.519009</td>\n      <td>...</td>\n      <td>2.182359</td>\n      <td>0.312239</td>\n      <td>82.080000</td>\n      <td>2.438856</td>\n      <td>1</td>\n      <td>NaN</td>\n      <td>NaN</td>\n      <td>NaN</td>\n      <td>NaN</td>\n      <td>202112190930-7</td>\n    </tr>\n    <tr>\n      <th>1</th>\n      <td>2</td>\n      <td>3</td>\n      <td>-49.564950</td>\n      <td>-63.817335</td>\n      <td>0.0</td>\n      <td>4.019341</td>\n      <td>3.390606</td>\n      <td>5.258452</td>\n      <td>-119.809671</td>\n      <td>39.519000</td>\n      <td>...</td>\n      <td>2.182359</td>\n      <td>0.418657</td>\n      <td>80.758000</td>\n      <td>2.438856</td>\n      <td>1</td>\n      <td>NaN</td>\n      <td>25.290108</td>\n      <td>25.290108</td>\n      <td>NaN</td>\n      <td>202112190930-7</td>\n    </tr>\n    <tr>\n      <th>2</th>\n      <td>3</td>\n      <td>4</td>\n      <td>-49.013924</td>\n      <td>-62.484297</td>\n      <td>0.0</td>\n      <td>4.696644</td>\n      <td>7.906111</td>\n      <td>9.195926</td>\n      <td>-119.809664</td>\n      <td>39.518987</td>\n      <td>...</td>\n      <td>2.182359</td>\n      <td>0.046361</td>\n      <td>79.312000</td>\n      <td>2.438856</td>\n      <td>1</td>\n      <td>NaN</td>\n      <td>32.266394</td>\n      <td>28.778251</td>\n      <td>NaN</td>\n      <td>202112190930-7</td>\n    </tr>\n    <tr>\n      <th>3</th>\n      <td>4</td>\n      <td>5</td>\n      <td>-48.544260</td>\n      <td>-61.693686</td>\n      <td>0.0</td>\n      <td>4.696644</td>\n      <td>7.906111</td>\n      <td>9.195926</td>\n      <td>-119.809660</td>\n      <td>39.518979</td>\n      <td>...</td>\n      <td>2.182359</td>\n      <td>0.046361</td>\n      <td>79.312000</td>\n      <td>2.438856</td>\n      <td>1</td>\n      <td>NaN</td>\n      <td>20.570734</td>\n      <td>25.290108</td>\n      <td>NaN</td>\n      <td>202112190930-7</td>\n    </tr>\n    <tr>\n      <th>4</th>\n      <td>5</td>\n      <td>6</td>\n      <td>-47.596023</td>\n      <td>-60.440993</td>\n      <td>0.0</td>\n      <td>6.447360</td>\n      <td>9.596505</td>\n      <td>11.561201</td>\n      <td>-119.809655</td>\n      <td>39.518965</td>\n      <td>...</td>\n      <td>2.182359</td>\n      <td>0.156016</td>\n      <td>76.728800</td>\n      <td>2.438856</td>\n      <td>1</td>\n      <td>NaN</td>\n      <td>35.144844</td>\n      <td>28.778251</td>\n      <td>NaN</td>\n      <td>202112190930-7</td>\n    </tr>\n    <tr>\n      <th>...</th>\n      <td>...</td>\n      <td>...</td>\n      <td>...</td>\n      <td>...</td>\n      <td>...</td>\n      <td>...</td>\n      <td>...</td>\n      <td>...</td>\n      <td>...</td>\n      <td>...</td>\n      <td>...</td>\n      <td>...</td>\n      <td>...</td>\n      <td>...</td>\n      <td>...</td>\n      <td>...</td>\n      <td>...</td>\n      <td>...</td>\n      <td>...</td>\n      <td>...</td>\n      <td>...</td>\n    </tr>\n    <tr>\n      <th>6343795</th>\n      <td>72320</td>\n      <td>17832</td>\n      <td>-7.420439</td>\n      <td>9.800035</td>\n      <td>0.0</td>\n      <td>-6.056178</td>\n      <td>-9.620730</td>\n      <td>11.368189</td>\n      <td>-119.809281</td>\n      <td>39.518288</td>\n      <td>...</td>\n      <td>2.794487</td>\n      <td>11.179612</td>\n      <td>12.543144</td>\n      <td>4.491904</td>\n      <td>1</td>\n      <td>338.618289</td>\n      <td>25.386272</td>\n      <td>25.270079</td>\n      <td>2.664082</td>\n      <td>202112190000-6713</td>\n    </tr>\n    <tr>\n      <th>6343796</th>\n      <td>72321</td>\n      <td>17833</td>\n      <td>-8.006769</td>\n      <td>8.826333</td>\n      <td>0.0</td>\n      <td>-6.010187</td>\n      <td>-9.648459</td>\n      <td>11.367282</td>\n      <td>-119.809285</td>\n      <td>39.518298</td>\n      <td>...</td>\n      <td>2.794487</td>\n      <td>11.691995</td>\n      <td>12.019200</td>\n      <td>4.491904</td>\n      <td>1</td>\n      <td>339.492302</td>\n      <td>25.425246</td>\n      <td>25.270079</td>\n      <td>2.664082</td>\n      <td>202112190000-6713</td>\n    </tr>\n    <tr>\n      <th>6343797</th>\n      <td>72322</td>\n      <td>17834</td>\n      <td>-8.478235</td>\n      <td>7.742124</td>\n      <td>0.0</td>\n      <td>-5.701279</td>\n      <td>-9.933071</td>\n      <td>11.452969</td>\n      <td>-119.809297</td>\n      <td>39.518308</td>\n      <td>...</td>\n      <td>2.794487</td>\n      <td>8.812228</td>\n      <td>11.572815</td>\n      <td>4.491904</td>\n      <td>1</td>\n      <td>333.904976</td>\n      <td>26.446933</td>\n      <td>25.405759</td>\n      <td>2.863078</td>\n      <td>202112190000-6713</td>\n    </tr>\n    <tr>\n      <th>6343798</th>\n      <td>72323</td>\n      <td>17835</td>\n      <td>-8.833774</td>\n      <td>6.602680</td>\n      <td>0.0</td>\n      <td>-5.189609</td>\n      <td>-10.281522</td>\n      <td>11.517019</td>\n      <td>-119.809299</td>\n      <td>39.518316</td>\n      <td>...</td>\n      <td>2.794487</td>\n      <td>7.887994</td>\n      <td>11.244717</td>\n      <td>4.491904</td>\n      <td>1</td>\n      <td>335.059181</td>\n      <td>26.700662</td>\n      <td>25.405759</td>\n      <td>2.439895</td>\n      <td>202112190000-6713</td>\n    </tr>\n    <tr>\n      <th>6343799</th>\n      <td>72324</td>\n      <td>17836</td>\n      <td>-9.299923</td>\n      <td>5.543630</td>\n      <td>0.0</td>\n      <td>-5.063684</td>\n      <td>-10.355195</td>\n      <td>11.526966</td>\n      <td>-119.809304</td>\n      <td>39.518325</td>\n      <td>...</td>\n      <td>2.794487</td>\n      <td>7.998064</td>\n      <td>10.986587</td>\n      <td>4.491904</td>\n      <td>1</td>\n      <td>335.699827</td>\n      <td>25.883647</td>\n      <td>25.654446</td>\n      <td>2.804637</td>\n      <td>202112190000-6713</td>\n    </tr>\n  </tbody>\n</table>\n<p>6343800 rows × 26 columns</p>\n</div>"
     },
     "execution_count": 53,
     "metadata": {},
     "output_type": "execute_result"
    }
   ],
   "source": [
    "df_all"
   ],
   "metadata": {
    "collapsed": false,
    "ExecuteTime": {
     "end_time": "2023-08-14T17:36:44.854007800Z",
     "start_time": "2023-08-14T17:36:43.623818300Z"
    }
   }
  },
  {
   "cell_type": "code",
   "execution_count": 54,
   "outputs": [],
   "source": [
    "df_all.to_csv('{}\\Lawrence1219.csv'.format(path_temp))"
   ],
   "metadata": {
    "collapsed": false,
    "ExecuteTime": {
     "end_time": "2023-08-14T17:41:38.149514Z",
     "start_time": "2023-08-14T17:39:45.502847100Z"
    }
   }
  }
 ],
 "metadata": {
  "kernelspec": {
   "display_name": "Python 3",
   "language": "python",
   "name": "python3"
  },
  "language_info": {
   "codemirror_mode": {
    "name": "ipython",
    "version": 2
   },
   "file_extension": ".py",
   "mimetype": "text/x-python",
   "name": "python",
   "nbconvert_exporter": "python",
   "pygments_lexer": "ipython2",
   "version": "2.7.6"
  }
 },
 "nbformat": 4,
 "nbformat_minor": 0
}
